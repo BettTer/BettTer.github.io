{
  "nbformat": 4,
  "nbformat_minor": 0,
  "metadata": {
    "colab": {
      "provenance": [],
      "include_colab_link": true
    },
    "kernelspec": {
      "name": "python3",
      "display_name": "Python 3"
    },
    "accelerator": "GPU"
  },
  "cells": [
    {
      "cell_type": "markdown",
      "metadata": {
        "id": "view-in-github",
        "colab_type": "text"
      },
      "source": [
        "<a href=\"https://colab.research.google.com/github/BettTer/BettTer.github.io/blob/master/colab_webui.ipynb\" target=\"_parent\"><img src=\"https://colab.research.google.com/assets/colab-badge.svg\" alt=\"Open In Colab\"/></a>"
      ]
    },
    {
      "cell_type": "markdown",
      "source": [
        "环境配置 environment"
      ],
      "metadata": {
        "id": "_o6a8GS2lWQM"
      }
    },
    {
      "cell_type": "code",
      "metadata": {
        "id": "e9b7iFV3dm1f"
      },
      "source": [
        "!pip install -q condacolab\n",
        "# Setting up condacolab and installing packages\n",
        "import condacolab\n",
        "condacolab.install_from_url(\"https://repo.anaconda.com/miniconda/Miniconda3-py39_23.11.0-2-Linux-x86_64.sh\")\n",
        "%cd -q /content\n",
        "!git clone https://github.com/RVC-Boss/GPT-SoVITS\n",
        "!conda install -y -q -c pytorch -c nvidia cudatoolkit\n",
        "%cd -q /content/GPT-SoVITS\n",
        "!conda install -y -q -c conda-forge gcc gxx ffmpeg cmake -c pytorch -c nvidia\n",
        "!/usr/local/bin/pip install -r requirements.txt"
      ],
      "execution_count": null,
      "outputs": []
    },
    {
      "cell_type": "code",
      "source": [
        "# @title Download pretrained models 下载预训练模型\n",
        "!mkdir -p /content/GPT-SoVITS/GPT_SoVITS/pretrained_models\n",
        "!mkdir -p /content/GPT-SoVITS/tools/damo_asr/models\n",
        "!mkdir -p /content/GPT-SoVITS/tools/uvr5\n",
        "%cd /content/GPT-SoVITS/GPT_SoVITS/pretrained_models\n",
        "!git clone https://huggingface.co/lj1995/GPT-SoVITS\n",
        "%cd /content/GPT-SoVITS/tools/damo_asr/models\n",
        "!git clone https://www.modelscope.cn/damo/speech_paraformer-large_asr_nat-zh-cn-16k-common-vocab8404-pytorch.git\n",
        "!git clone https://www.modelscope.cn/damo/speech_fsmn_vad_zh-cn-16k-common-pytorch.git\n",
        "!git clone https://www.modelscope.cn/damo/punc_ct-transformer_zh-cn-common-vocab272727-pytorch.git\n",
        "# @title UVR5 pretrains 安装uvr5模型\n",
        "%cd /content/GPT-SoVITS/tools/uvr5\n",
        "%rm -r uvr5_weights\n",
        "!git clone https://huggingface.co/Delik/uvr5_weights\n",
        "!git config core.sparseCheckout true\n",
        "!mv /content/GPT-SoVITS/GPT_SoVITS/pretrained_models/GPT-SoVITS/* /content/GPT-SoVITS/GPT_SoVITS/pretrained_models/"
      ],
      "metadata": {
        "id": "0NgxXg5sjv7z"
      },
      "execution_count": null,
      "outputs": []
    },
    {
      "cell_type": "code",
      "source": [
        "# @title launch WebUI 启动WebUI\n",
        "!/usr/local/bin/pip install ipykernel\n",
        "!sed -i '10s/False/True/' /content/GPT-SoVITS/config.py\n",
        "%cd /content/GPT-SoVITS/\n",
        "!/usr/local/bin/python  webui.py"
      ],
      "metadata": {
        "id": "4oRGUzkrk8C7"
      },
      "execution_count": null,
      "outputs": []
    },
    {
      "cell_type": "code",
      "source": [
        "!pip install antlr4-python3-runtime==4.11"
      ],
      "metadata": {
        "id": "BBNlQ3blrtMo",
        "outputId": "c44e44d0-6704-4c33-9c93-3c4373d29fb2",
        "colab": {
          "base_uri": "https://localhost:8080/"
        }
      },
      "execution_count": 1,
      "outputs": [
        {
          "output_type": "stream",
          "name": "stdout",
          "text": [
            "Requirement already satisfied: antlr4-python3-runtime==4.11 in /usr/local/lib/python3.10/dist-packages (4.11.0)\n"
          ]
        }
      ]
    },
    {
      "cell_type": "code",
      "source": [
        "from sympy import Matrix\n",
        "\n",
        "# 手动定义矩阵\n",
        "matrix_A1 = Matrix([\n",
        "    [0.029, 0.029, 0.143, 0.029, 0.162, 0.029, 0.029],\n",
        "    [0.296, 0.029, 0.143, 0.029, 0.162, 0.029, 0.029],\n",
        "    [0.029, 0.296, 0.143, 0.029, 0.162, 0.296, 0.029],\n",
        "    [0.296, 0.296, 0.143, 0.029, 0.162, 0.029, 0.296],\n",
        "    [0.296, 0.296, 0.143, 0.829, 0.029, 0.296, 0.296],\n",
        "    [0.029, 0.029, 0.143, 0.029, 0.162, 0.029, 0.296],\n",
        "    [0.029, 0.029, 0.143, 0.029, 0.162, 0.296, 0.029]\n",
        "])\n",
        "\n",
        "r0 = Matrix([\n",
        "    [0.143],\n",
        "    [0.143],\n",
        "    [0.143],\n",
        "    [0.143],\n",
        "    [0.143],\n",
        "    [0.143],\n",
        "    [0.143]\n",
        "])\n",
        "\n",
        "# 计算矩阵乘法\n",
        "r1 = matrix_A1 * r0\n",
        "r2 = matrix_A1 * r1\n",
        "r3 = matrix_A1 * r2\n",
        "r4 = matrix_A1 * r3\n",
        "r5 = matrix_A1 * r4\n",
        "\n",
        "# 打印结果\n",
        "print(\"matrix_A1:\")\n",
        "print(matrix_A1)\n",
        "print(\"\\nr0:\")\n",
        "print(r0)\n",
        "print(\"\\nr1:\")\n",
        "print(r1)\n",
        "print(\"\\nr2:\")\n",
        "print(r2)\n",
        "print(\"\\nr3:\")\n",
        "print(r3)\n",
        "print(\"\\nr4:\")\n",
        "print(r4)\n",
        "print(\"\\nr5:\")\n",
        "print(r5)"
      ],
      "metadata": {
        "id": "3Mt4bZ2eruLi",
        "outputId": "df6b7653-1672-49e1-a64a-e122d3d523f1",
        "colab": {
          "base_uri": "https://localhost:8080/"
        }
      },
      "execution_count": 4,
      "outputs": [
        {
          "output_type": "stream",
          "name": "stdout",
          "text": [
            "matrix_A1:\n",
            "Matrix([[0.0290000000000000, 0.0290000000000000, 0.143000000000000, 0.0290000000000000, 0.162000000000000, 0.0290000000000000, 0.0290000000000000], [0.296000000000000, 0.0290000000000000, 0.143000000000000, 0.0290000000000000, 0.162000000000000, 0.0290000000000000, 0.0290000000000000], [0.0290000000000000, 0.296000000000000, 0.143000000000000, 0.0290000000000000, 0.162000000000000, 0.296000000000000, 0.0290000000000000], [0.296000000000000, 0.296000000000000, 0.143000000000000, 0.0290000000000000, 0.162000000000000, 0.0290000000000000, 0.296000000000000], [0.296000000000000, 0.296000000000000, 0.143000000000000, 0.829000000000000, 0.0290000000000000, 0.296000000000000, 0.296000000000000], [0.0290000000000000, 0.0290000000000000, 0.143000000000000, 0.0290000000000000, 0.162000000000000, 0.0290000000000000, 0.296000000000000], [0.0290000000000000, 0.0290000000000000, 0.143000000000000, 0.0290000000000000, 0.162000000000000, 0.296000000000000, 0.0290000000000000]])\n",
            "\n",
            "r0:\n",
            "Matrix([[0.143000000000000], [0.143000000000000], [0.143000000000000], [0.143000000000000], [0.143000000000000], [0.143000000000000], [0.143000000000000]])\n",
            "\n",
            "r1:\n",
            "Matrix([[0.0643500000000000], [0.102531000000000], [0.140712000000000], [0.178893000000000], [0.312455000000000], [0.102531000000000], [0.102531000000000]])\n",
            "\n",
            "r2:\n",
            "Matrix([[0.0867137700000000], [0.103895220000000], [0.141465324000000], [0.158646774000000], [0.287580436000000], [0.114089547000000], [0.114089547000000]])\n",
            "\n",
            "r3:\n",
            "Matrix([[0.0835631828460000], [0.106715759436000], [0.141765115635000], [0.164917692225000], [0.284048822486000], [0.114025091895000], [0.114025091895000]])\n",
            "\n",
            "r4:\n",
            "Matrix([[0.0832024785091500], [0.105513848329032], [0.142140285814527], [0.164451655634409], [0.289052015559736], [0.113647178045115], [0.113647178045115]])\n",
            "\n",
            "r5:\n",
            "Matrix([[0.0839858952104764], [0.106200956972419], [0.142501889252374], [0.164716951014317], [0.288178153990445], [0.114329691748522], [0.114329691748522]])\n"
          ]
        }
      ]
    },
    {
      "cell_type": "code",
      "source": [
        "# 0.029 & 0.029 & 0.029 & 0.189 & 0.029 & 0.029 \\\\\n",
        "# 0.295 & 0.029 & 0.029 & 0.189 & 0.029 & 0.029 \\\\\n",
        "# 0.295 & 0.429 & 0.029 & 0.189 & 0.029 & 0.295 \\\\\n",
        "# 0.295 & 0.429 & 0.829 & 0.029 & 0.429 & 0.295 \\\\\n",
        "# 0.029 & 0.029 & 0.029 & 0.189 & 0.029 & 0.295 \\\\\n",
        "# 0.029 & 0.029 & 0.029 & 0.189 & 0.429 & 0.029 \\\\\n",
        "\n",
        "from sympy import Matrix\n",
        "\n",
        "# 手动定义矩阵\n",
        "matrix_A1 = Matrix([\n",
        "    [0.029 , 0.029 , 0.029 , 0.189 , 0.029 , 0.029],\n",
        "    [0.295 , 0.029 , 0.029 , 0.189 , 0.029 , 0.029],\n",
        "    [0.295 , 0.429 , 0.029 , 0.189 , 0.029 , 0.295],\n",
        "    [0.295 , 0.429 , 0.829 , 0.029 , 0.429 , 0.295],\n",
        "    [0.029 , 0.029 , 0.029 , 0.189 , 0.029 , 0.295],\n",
        "    [0.029 , 0.029 , 0.029 , 0.189 , 0.429 , 0.029],\n",
        "])\n",
        "\n",
        "r0 = Matrix([\n",
        "    [0.167],\n",
        "    [0.167],\n",
        "    [0.167],\n",
        "    [0.167],\n",
        "    [0.167],\n",
        "    [0.167],\n",
        "])\n",
        "\n",
        "# 计算矩阵乘法\n",
        "r1 = matrix_A1 * r0\n",
        "r2 = matrix_A1 * r1\n",
        "r3 = matrix_A1 * r2\n",
        "r4 = matrix_A1 * r3\n",
        "r5 = matrix_A1 * r4\n",
        "\n",
        "# 打印结果\n",
        "print(\"matrix_A1:\")\n",
        "print(matrix_A1)\n",
        "print(\"\\nr0:\")\n",
        "print(r0)\n",
        "print(\"\\nr1:\")\n",
        "print(r1)\n",
        "print(\"\\nr2:\")\n",
        "print(r2)\n",
        "print(\"\\nr3:\")\n",
        "print(r3)\n",
        "print(\"\\nr4:\")\n",
        "print(r4)\n",
        "print(\"\\nr5:\")\n",
        "print(r5)\n"
      ],
      "metadata": {
        "id": "oAO9IJMfzQqP",
        "outputId": "32b31ddc-e369-4635-d93d-ea5ce94c0f56",
        "colab": {
          "base_uri": "https://localhost:8080/"
        }
      },
      "execution_count": 6,
      "outputs": [
        {
          "output_type": "stream",
          "name": "stdout",
          "text": [
            "matrix_A1:\n",
            "Matrix([[0.0290000000000000, 0.0290000000000000, 0.0290000000000000, 0.189000000000000, 0.0290000000000000, 0.0290000000000000], [0.295000000000000, 0.0290000000000000, 0.0290000000000000, 0.189000000000000, 0.0290000000000000, 0.0290000000000000], [0.295000000000000, 0.429000000000000, 0.0290000000000000, 0.189000000000000, 0.0290000000000000, 0.295000000000000], [0.295000000000000, 0.429000000000000, 0.829000000000000, 0.0290000000000000, 0.429000000000000, 0.295000000000000], [0.0290000000000000, 0.0290000000000000, 0.0290000000000000, 0.189000000000000, 0.0290000000000000, 0.295000000000000], [0.0290000000000000, 0.0290000000000000, 0.0290000000000000, 0.189000000000000, 0.429000000000000, 0.0290000000000000]])\n",
            "\n",
            "r0:\n",
            "Matrix([[0.167000000000000], [0.167000000000000], [0.167000000000000], [0.167000000000000], [0.167000000000000], [0.167000000000000]])\n",
            "\n",
            "r1:\n",
            "Matrix([[0.0557780000000000], [0.100200000000000], [0.211422000000000], [0.385102000000000], [0.100200000000000], [0.122578000000000]])\n",
            "\n",
            "r2:\n",
            "Matrix([[0.0898994400000000], [0.104736388000000], [0.177422136000000], [0.325023416000000], [0.122505188000000], [0.129979440000000]])\n",
            "\n",
            "r3:\n",
            "Matrix([[0.0795411607920000], [0.103454411832000], [0.179923498072000], [0.318859535512000], [0.114115691832000], [0.128543235992000]])\n",
            "\n",
            "r4:\n",
            "Matrix([[0.0778262141688480], [0.0989841629395200], [0.174558428446192], [0.313125977954672], [0.112018714942720], [0.123472490901648]])\n",
            "\n",
            "r5:\n",
            "Matrix([[0.0761997501640019], [0.0969015231329155], [0.169338870888562], [0.303692943149856], [0.109043432743840], [0.121007236141090]])\n"
          ]
        }
      ]
    },
    {
      "cell_type": "code",
      "source": [
        "# 0.029 & 0.029 & 0.029 & 0.189 & 0.029 & 0.029 \\\\\n",
        "# 0.295 & 0.029 & 0.029 & 0.189 & 0.029 & 0.029 \\\\\n",
        "# 0.295 & 0.429 & 0.029 & 0.189 & 0.029 & 0.295 \\\\\n",
        "# 0.295 & 0.429 & 0.829 & 0.029 & 0.429 & 0.295 \\\\\n",
        "# 0.029 & 0.029 & 0.029 & 0.189 & 0.029 & 0.295 \\\\\n",
        "# 0.029 & 0.029 & 0.029 & 0.189 & 0.429 & 0.029 \\\\\n",
        "\n",
        "from sympy import Matrix\n",
        "\n",
        "# 手动定义矩阵\n",
        "matrix_A1 = Matrix([\n",
        "    [0.5 , 0.9],\n",
        "    [0.5 , 0.1],\n",
        "])\n",
        "\n",
        "r0 = Matrix([\n",
        "    [0.5],\n",
        "    [0.5],\n",
        "])\n",
        "\n",
        "# 计算矩阵乘法\n",
        "r1 = matrix_A1 * r0\n",
        "r2 = matrix_A1 * r1\n",
        "r3 = matrix_A1 * r2\n",
        "r4 = matrix_A1 * r3\n",
        "r5 = matrix_A1 * r4\n",
        "\n",
        "# 打印结果\n",
        "print(\"matrix_A1:\")\n",
        "print(matrix_A1)\n",
        "print(\"\\nr0:\")\n",
        "print(r0)\n",
        "print(\"\\nr1:\")\n",
        "print(r1)\n",
        "print(\"\\nr2:\")\n",
        "print(r2)\n",
        "print(\"\\nr3:\")\n",
        "print(r3)\n",
        "print(\"\\nr4:\")\n",
        "print(r4)\n",
        "print(\"\\nr5:\")\n",
        "print(r5)\n"
      ],
      "metadata": {
        "id": "yLYgPHYT5SDl",
        "outputId": "b6a64c5e-9c11-44b4-fa9e-80789a554ec2",
        "colab": {
          "base_uri": "https://localhost:8080/"
        }
      },
      "execution_count": 10,
      "outputs": [
        {
          "output_type": "stream",
          "name": "stdout",
          "text": [
            "matrix_A1:\n",
            "Matrix([[0.500000000000000, 0.900000000000000], [0.500000000000000, 0.100000000000000]])\n",
            "\n",
            "r0:\n",
            "Matrix([[0.500000000000000], [0.500000000000000]])\n",
            "\n",
            "r1:\n",
            "Matrix([[0.700000000000000], [0.300000000000000]])\n",
            "\n",
            "r2:\n",
            "Matrix([[0.620000000000000], [0.380000000000000]])\n",
            "\n",
            "r3:\n",
            "Matrix([[0.652000000000000], [0.348000000000000]])\n",
            "\n",
            "r4:\n",
            "Matrix([[0.639200000000000], [0.360800000000000]])\n",
            "\n",
            "r5:\n",
            "Matrix([[0.644320000000000], [0.355680000000000]])\n"
          ]
        }
      ]
    }
  ]
}